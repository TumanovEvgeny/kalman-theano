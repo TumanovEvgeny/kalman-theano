{
 "cells": [
  {
   "cell_type": "markdown",
   "metadata": {
    "collapsed": false
   },
   "source": [
    "# Pair-trading model\n",
    "\n",
    "В этом ноутбуке мы используем фильтр Кащмана для оценки модели для парной торговли. Модель будем использовать такую - SSM (state space model):\n",
    "\n",
    "$$y_t = H^{'}_t\\xi_t + \\epsilon_t$$\n",
    "\n",
    "$$\\xi_{t+1} = F_{t+1}\\xi_t + \\omega_t$$\n",
    "\n",
    "Где,\n",
    "\n",
    "$$\\xi_t = \\begin{bmatrix}\n",
    "    \\beta_{1t} \\\\\n",
    "    l_{1t} \\\\\n",
    "    ... \\\\\n",
    "    \\beta_{nt} \\\\\n",
    "    l_{nt}\n",
    "\\end{bmatrix}, \\ \\ \\ \\ \\\n",
    "H^{'}_t = \\begin{bmatrix}\n",
    "    x_{1t}       & 1 & 0 & 0 & \\dots & 0 & 0 \\\\\n",
    "    0       & 0 & x_{2t} & 1 &\\dots & 0 & 0\\\\\n",
    "    ... \\\\\n",
    "    0       & 0 &0 & 0 & \\dots & x_{nt} & 1\n",
    "\\end{bmatrix}, \\ \\ \\ \\ \\\n",
    "F_{t+1} = \\begin{bmatrix}\n",
    "    1 & 0 & 0 & 0 & \\dots & 0 & 0 \\\\\n",
    "    0 & 1 & 0 & 0 &\\dots & 0 & 0\\\\\n",
    "    ... \\\\\n",
    "    0 & 0 & 0 & 0 & \\dots & 0 & 1\n",
    "\\end{bmatrix}\n",
    "$$\n",
    "\n",
    "Эта модель фактически может быть представлена в отдельности для каждой из пар $(x,y)$ в отдельности. Её вид будет таким:\n",
    "\n",
    "$$y_{i,t} = \\beta_{i,t} x_{it} + l_{i,t} + \\epsilon_{i,t}$$\n",
    "\n",
    "$$\\beta_{i,t+1} = \\beta_{i,t} + u_{i,t}$$\n",
    "\n",
    "$$l_{i,t+1} = l_{i,}t + v_{i,t}$$\n",
    "\n",
    "\n",
    "------------------------------------------------------------------------------------\n",
    "\n",
    "Алгоритм который мы реализуем здесь:\n",
    "\n",
    "* На вход подаются две матрицы X, Y - матрицы (t, price) активов\n",
    "* Считаем std по каждому $y \\in Y$\n",
    "* Находим оптимальный вектор параметров для фильтра Калмана. Параметры будут связаны с волатильностью, поэтому мерять их будем в волатильности базы\n",
    "* записываем в файл оптимальные оценки beta_t, и l_t"
   ]
  },
  {
   "cell_type": "code",
   "execution_count": 37,
   "metadata": {
    "collapsed": true
   },
   "outputs": [],
   "source": [
    "import pandas as pd\n",
    "import numpy as np\n",
    "import theano \n",
    "import theano.tensor as T\n",
    "import matplotlib.pyplot as plt\n",
    "import time\n",
    "import tqdm\n",
    "from sklearn.linear_model import LinearRegression\n",
    "\n",
    "%matplotlib inline"
   ]
  },
  {
   "cell_type": "code",
   "execution_count": 38,
   "metadata": {
    "collapsed": true
   },
   "outputs": [],
   "source": [
    "# for debug: may be useful ->\n",
    "# -> theano.config.optimizer='None'\n",
    "# -> theano.config.exception_verbosity='high'"
   ]
  },
  {
   "cell_type": "markdown",
   "metadata": {},
   "source": [
    "### Model"
   ]
  },
  {
   "cell_type": "code",
   "execution_count": 62,
   "metadata": {
    "collapsed": true
   },
   "outputs": [],
   "source": [
    "#!/usr/bin/env python3\n",
    "#__author__ = 'Evgeniy.Tumanov'\n",
    "\n",
    "import pandas as pd\n",
    "import numpy as np\n",
    "import theano\n",
    "import theano.tensor as T\n",
    "import matplotlib.pyplot as plt\n",
    "import time\n",
    "from sklearn.linear_model import LinearRegression\n",
    "\n",
    "\n",
    "class kalman:\n",
    "\n",
    "    def kalman_rec(self, y_t, H_t, xi_t_tm1, P_t_tm1, F_tp1, Q_t, R_t):\n",
    "        # for debug: may be useful ->\n",
    "        # -> print(y_t.ndim, H_t.ndim, F_tp1.ndim, Q_t.ndim, R_t.ndim, xi_t_tm1.ndim, P_t_tm1.ndim)\n",
    "\n",
    "        y_t_hat = T.dot(H_t.T, xi_t_tm1)\n",
    "        eps_t = y_t - y_t_hat\n",
    "        pseudo_inv = T.nlinalg.matrix_inverse(T.dot(H_t.T, T.dot(P_t_tm1, H_t)) + R_t)\n",
    "        invi =  T.dot(P_t_tm1, T.dot(H_t, pseudo_inv))\n",
    "        xi_t_t = xi_t_tm1 + T.dot(invi, eps_t)\n",
    "        xi_tp1_t = T.dot(F_tp1, xi_t_t)\n",
    "        P_t_t = P_t_tm1 - T.dot(invi, T.dot(H_t.T, P_t_tm1))\n",
    "        P_tp1_t = T.dot(F_tp1, T.dot(P_t_t, F_tp1.T)) + Q_t\n",
    "\n",
    "        return [xi_tp1_t, P_tp1_t, y_t_hat, xi_t_t, T.sqr(eps_t)]\n",
    "\n",
    "    def __init__(self, Y, X):\n",
    "        self.Y, self.X = Y[:, :, np.newaxis], X\n",
    "        self.n = X.shape[1]\n",
    "        y, H = T.tensor3(), T.tensor3()\n",
    "        F, Q, R = T.matrix(), T.matrix(), T.matrix()\n",
    "        sequences=[dict(input=y, taps=[0]), dict(input=H, taps=[0])]\n",
    "        xi_1_0 = T.matrix()\n",
    "        P_1_0 = T.matrix()\n",
    "        (values, updates) = theano.scan(fn=self.kalman_rec,\n",
    "                                          sequences=sequences,\n",
    "                                          outputs_info=[xi_1_0, P_1_0, None, None, None],\n",
    "                                          non_sequences=[F, Q, R],\n",
    "                                          strict=True)\n",
    "        self.kalman_filter = theano.function([y, H, xi_1_0, P_1_0, F, Q, R], values, updates=updates, allow_input_downcast=True)\n",
    "\n",
    "    def get_G_mat(self, x):\n",
    "        G = np.zeros((self.n, 2*self.n), dtype='float32')\n",
    "        source = np.hstack([x.reshape(-1, 1), np.ones((x.shape[0], 1))])\n",
    "        for i in range(self.n):\n",
    "            G[i, i* 2] = source[i, 0]\n",
    "            G[i, i* 2+1] = source[i, 1]\n",
    "        return G\n",
    "\n",
    "    def filter_out(self, Q, R):\n",
    "        # init all variables need\n",
    "        H_val = np.array([self.get_G_mat(self.X[t]).T for t in range(self.X.shape[0])])\n",
    "        F_val = np.diag(np.ones(2*self.n, dtype='float32'))\n",
    "\n",
    "        xi_1_0_val = np.zeros((2*self.n, 1))\n",
    "        P_1_0_val = np.diag(np.ones(2*self.n))\n",
    "        # for debug: may be useful ->\n",
    "        # -> print('Shapes:\\n')\n",
    "        # -> print(' y : {}\\n H : {}\\n xi_1_0 : {}\\n P_1_0 : {}\\n F : {}\\n Q : {}\\n R : {}\\n'.format(*map(\\\n",
    "        #                            lambda d: d.shape, [self.Y, H_val, xi_1_0_val, P_1_0_val, F_val, Q, R])))\n",
    "        start_time = time.time()\n",
    "        output = self.kalman_filter(self.Y, H_val, xi_1_0_val, P_1_0_val, F_val, Q, R)\n",
    "        # for debug: may be useful ->\n",
    "        # -> print('Eval time: {} s.'.format(time.time() - start_time))\n",
    "        return output\n",
    "\n",
    "\n"
   ]
  },
  {
   "cell_type": "markdown",
   "metadata": {},
   "source": [
    "### Script"
   ]
  },
  {
   "cell_type": "code",
   "execution_count": 63,
   "metadata": {
    "collapsed": true
   },
   "outputs": [],
   "source": [
    "path = 'D:/data/storage/slices/{}.csv'\n",
    "t = '2017-06-08'\n",
    "data_slice = pd.read_csv(path.format('data_slice_{}'.format(t)), parse_dates=['Date_Time'], index_col='Date_Time')\n",
    "pairs = pd.read_csv(path.format('pairs_{}'.format(t)), index_col='id')"
   ]
  },
  {
   "cell_type": "code",
   "execution_count": 106,
   "metadata": {
    "collapsed": true
   },
   "outputs": [],
   "source": [
    "n = 10"
   ]
  },
  {
   "cell_type": "code",
   "execution_count": 93,
   "metadata": {
    "collapsed": false
   },
   "outputs": [
    {
     "data": {
      "text/plain": [
       "((3250, 1), (3250, 1))"
      ]
     },
     "execution_count": 93,
     "metadata": {},
     "output_type": "execute_result"
    }
   ],
   "source": [
    "pairs_subset = np.array(pairs.iloc[:n])\n",
    "Y = np.array(data_slice[pairs_subset[:, 0]])\n",
    "X = np.array(data_slice[pairs_subset[:, 1]])\n",
    "Y.shape, X.shape"
   ]
  },
  {
   "cell_type": "markdown",
   "metadata": {},
   "source": [
    "### 2. Y standard deviation"
   ]
  },
  {
   "cell_type": "code",
   "execution_count": 94,
   "metadata": {
    "collapsed": false
   },
   "outputs": [],
   "source": [
    "sigmas = Y.std(axis=0)\n",
    "GRID_SIZE = 10\n",
    "optim_grid = np.hstack([np.linspace(0., 1., GRID_SIZE)[1:].reshape(-1, 1) for i in range(n)]) * sigmas \n",
    "beta_cells = [] \n",
    "for i in range(n):\n",
    "    y, x = Y[:, i], X[:, i]\n",
    "    beta_cells.append(LinearRegression().fit(x.reshape(-1, 1), y.reshape(-1, 1)).coef_.ravel()[0] / np.sqrt(x.shape[0]))"
   ]
  },
  {
   "cell_type": "markdown",
   "metadata": {},
   "source": [
    "### 3. Optim procedure for Kalman"
   ]
  },
  {
   "cell_type": "code",
   "execution_count": 95,
   "metadata": {
    "collapsed": false
   },
   "outputs": [
    {
     "name": "stderr",
     "output_type": "stream",
     "text": [
      "9it [00:02,  4.36it/s]\n"
     ]
    }
   ],
   "source": [
    "model = kalman(Y, X)\n",
    "min_errs = np.array([np.infty] * n)\n",
    "opt_node = {}\n",
    "level = {}\n",
    "beta = {}\n",
    "\n",
    "for k, node in tqdm.tqdm(enumerate(optim_grid)):\n",
    "    R = np.diag(node)\n",
    "    trace = np.zeros(2*n)\n",
    "    trace[::2] = node * 0.1\n",
    "    trace[slice(1, None, 2)] = np.array(beta_cells) \n",
    "    Q = np.diag(trace)\n",
    "    output = model.filter_out(Q, R)\n",
    "    \n",
    "    errs = output[-1].mean(axis=0).ravel()\n",
    "    for i, (cur_err, min_err) in enumerate(zip(errs, min_errs)):\n",
    "        if cur_err < min_err:\n",
    "            min_errs[i] = cur_err\n",
    "            opt_node[i] = k\n",
    "            #print(output[-2].shape)\n",
    "            beta[i] = output[-2][:, 2*i]\n",
    "            level[i] = output[-2][:, 2*i+1]\n",
    "    \n"
   ]
  },
  {
   "cell_type": "code",
   "execution_count": 96,
   "metadata": {
    "collapsed": false
   },
   "outputs": [],
   "source": [
    "for i, (symbol_y, symbol_x) in enumerate(zip(pairs_subset[:, 0], pairs_subset[:, 1])):\n",
    "    df = pd.DataFrame(np.hstack([beta[i], level[i]]), index=data_slice.index)\n",
    "    df.columns = ['beta', 'level']\n",
    "    df.to_csv('D:/data/storage/xis/xi_{}_{}_{}.csv'.format(symbol_y, symbol_x, t))"
   ]
  },
  {
   "cell_type": "code",
   "execution_count": 97,
   "metadata": {
    "collapsed": true
   },
   "outputs": [],
   "source": [
    "PLOT = True"
   ]
  },
  {
   "cell_type": "code",
   "execution_count": 100,
   "metadata": {
    "collapsed": false,
    "scrolled": false
   },
   "outputs": [
    {
     "data": {
      "image/png": "[encoded data removed]",
      "text/plain": [
       "<matplotlib.figure.Figure at 0xd465080>"
      ]
     },
     "metadata": {},
     "output_type": "display_data"
    }
   ],
   "source": [
    "if PLOT:\n",
    "    for i in range(1):\n",
    "        y, x = Y[:, i], X[:, i]\n",
    "        plt.figure(figsize=(15, 3))\n",
    "        plt.grid()\n",
    "\n",
    "        plt.plot(beta[i].ravel())\n"
   ]
  },
  {
   "cell_type": "code",
   "execution_count": 101,
   "metadata": {
    "collapsed": false,
    "scrolled": false
   },
   "outputs": [
    {
     "data": {
      "image/png": "[encoded data removed]",
      "text/plain": [
       "<matplotlib.figure.Figure at 0xe6a74e0>"
      ]
     },
     "metadata": {},
     "output_type": "display_data"
    }
   ],
   "source": [
    "if PLOT:\n",
    "    for i in range(1):\n",
    "        y, x = Y[:, i], X[:, i]\n",
    "        plt.figure(figsize=(15, 3))\n",
    "        plt.grid()\n",
    "\n",
    "        plt.plot(y - beta[i].ravel() * x)\n",
    "        plt.plot(level[i].ravel())"
   ]
  },
  {
   "cell_type": "code",
   "execution_count": null,
   "metadata": {
    "collapsed": true
   },
   "outputs": [],
   "source": []
  },
  {
   "cell_type": "code",
   "execution_count": null,
   "metadata": {
    "collapsed": true
   },
   "outputs": [],
   "source": []
  },
  {
   "cell_type": "code",
   "execution_count": null,
   "metadata": {
    "collapsed": true
   },
   "outputs": [],
   "source": []
  },
  {
   "cell_type": "code",
   "execution_count": null,
   "metadata": {
    "collapsed": true
   },
   "outputs": [],
   "source": []
  },
  {
   "cell_type": "code",
   "execution_count": null,
   "metadata": {
    "collapsed": true
   },
   "outputs": [],
   "source": []
  },
  {
   "cell_type": "code",
   "execution_count": null,
   "metadata": {
    "collapsed": true
   },
   "outputs": [],
   "source": []
  },
  {
   "cell_type": "code",
   "execution_count": null,
   "metadata": {
    "collapsed": true
   },
   "outputs": [],
   "source": []
  },
  {
   "cell_type": "code",
   "execution_count": null,
   "metadata": {
    "collapsed": true
   },
   "outputs": [],
   "source": []
  }
 ],
 "metadata": {
  "kernelspec": {
   "display_name": "Python 3",
   "language": "python",
   "name": "python3"
  },
  "language_info": {
   "codemirror_mode": {
    "name": "ipython",
    "version": 3
   },
   "file_extension": ".py",
   "mimetype": "text/x-python",
   "name": "python",
   "nbconvert_exporter": "python",
   "pygments_lexer": "ipython3",
   "version": "3.6.0"
  }
 },
 "nbformat": 4,
 "nbformat_minor": 2
}
