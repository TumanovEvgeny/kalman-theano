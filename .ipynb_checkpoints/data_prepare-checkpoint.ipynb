{
 "cells": [
  {
   "cell_type": "markdown",
   "metadata": {},
   "source": [
    "# Kalman arbitrage"
   ]
  },
  {
   "cell_type": "code",
   "execution_count": 61,
   "metadata": {
    "collapsed": true
   },
   "outputs": [],
   "source": [
    "import numpy as np\n",
    "import pandas as pd\n",
    "import theano \n",
    "import theano.tensor as T\n",
    "import matplotlib.pyplot as plt\n",
    "\n",
    "%matplotlib inline"
   ]
  },
  {
   "cell_type": "code",
   "execution_count": 62,
   "metadata": {
    "collapsed": true
   },
   "outputs": [],
   "source": [
    "import time\n",
    "import tqdm\n",
    "import datetime\n",
    "import glob"
   ]
  },
  {
   "cell_type": "code",
   "execution_count": 63,
   "metadata": {
    "collapsed": true
   },
   "outputs": [],
   "source": [
    "from sklearn.linear_model import LinearRegression\n",
    "from itertools import *"
   ]
  },
  {
   "cell_type": "markdown",
   "metadata": {},
   "source": [
    "### Prepare data"
   ]
  },
  {
   "cell_type": "code",
   "execution_count": 22,
   "metadata": {
    "collapsed": false
   },
   "outputs": [
    {
     "name": "stderr",
     "output_type": "stream",
     "text": [
      "100%|████████████████████████████████████████| 114/114 [00:31<00:00,  3.04it/s]\n"
     ]
    }
   ],
   "source": [
    "path = 'Q:/MSK1_QR/Strategies/Es/pairTradingCheckFullFrom2013/'\n",
    "universe = list(map(lambda s: s[54:-4], glob.glob(path+'*.csv')))\n",
    "data = pd.DataFrame()\n",
    "for sym in tqdm.tqdm(universe):\n",
    "    sym_data = pd.read_csv(path + sym + '.csv', usecols=['Date', 'Time', 'Close'], parse_dates=[['Date', 'Time']],\\\n",
    "                            index_col='Date_Time')\n",
    "    data = pd.concat([data, sym_data], axis=1)\n"
   ]
  },
  {
   "cell_type": "code",
   "execution_count": 28,
   "metadata": {
    "collapsed": false
   },
   "outputs": [
    {
     "data": {
      "text/html": [
       "<div>\n",
       "<table border=\"1\" class=\"dataframe\">\n",
       "  <thead>\n",
       "    <tr style=\"text-align: right;\">\n",
       "      <th></th>\n",
       "      <th>AM</th>\n",
       "      <th>APA</th>\n",
       "      <th>APC</th>\n",
       "      <th>AR</th>\n",
       "      <th>ARLP</th>\n",
       "      <th>BHI</th>\n",
       "      <th>BP</th>\n",
       "      <th>BPL</th>\n",
       "      <th>CEO</th>\n",
       "      <th>CEQP</th>\n",
       "      <th>...</th>\n",
       "      <th>VET</th>\n",
       "      <th>VLO</th>\n",
       "      <th>WES</th>\n",
       "      <th>WGP</th>\n",
       "      <th>WMB</th>\n",
       "      <th>WNR</th>\n",
       "      <th>WPZ</th>\n",
       "      <th>XEC</th>\n",
       "      <th>XOM</th>\n",
       "      <th>YPF</th>\n",
       "    </tr>\n",
       "    <tr>\n",
       "      <th>Date_Time</th>\n",
       "      <th></th>\n",
       "      <th></th>\n",
       "      <th></th>\n",
       "      <th></th>\n",
       "      <th></th>\n",
       "      <th></th>\n",
       "      <th></th>\n",
       "      <th></th>\n",
       "      <th></th>\n",
       "      <th></th>\n",
       "      <th></th>\n",
       "      <th></th>\n",
       "      <th></th>\n",
       "      <th></th>\n",
       "      <th></th>\n",
       "      <th></th>\n",
       "      <th></th>\n",
       "      <th></th>\n",
       "      <th></th>\n",
       "      <th></th>\n",
       "      <th></th>\n",
       "    </tr>\n",
       "  </thead>\n",
       "  <tbody>\n",
       "    <tr>\n",
       "      <th>2011-01-03 09:45:00</th>\n",
       "      <td>NaN</td>\n",
       "      <td>114.92</td>\n",
       "      <td>73.19</td>\n",
       "      <td>NaN</td>\n",
       "      <td>26.2875</td>\n",
       "      <td>53.69</td>\n",
       "      <td>31.435</td>\n",
       "      <td>39.3575</td>\n",
       "      <td>206.886036</td>\n",
       "      <td>-297.75</td>\n",
       "      <td>...</td>\n",
       "      <td>NaN</td>\n",
       "      <td>15.26</td>\n",
       "      <td>14.15</td>\n",
       "      <td>NaN</td>\n",
       "      <td>14.96375</td>\n",
       "      <td>0.59</td>\n",
       "      <td>12.523187</td>\n",
       "      <td>87.46</td>\n",
       "      <td>57.35</td>\n",
       "      <td>46.272106</td>\n",
       "    </tr>\n",
       "  </tbody>\n",
       "</table>\n",
       "<p>1 rows × 114 columns</p>\n",
       "</div>"
      ],
      "text/plain": [
       "                     AM     APA    APC  AR     ARLP    BHI      BP      BPL  \\\n",
       "Date_Time                                                                     \n",
       "2011-01-03 09:45:00 NaN  114.92  73.19 NaN  26.2875  53.69  31.435  39.3575   \n",
       "\n",
       "                            CEO    CEQP    ...      VET    VLO    WES  WGP  \\\n",
       "Date_Time                                  ...                               \n",
       "2011-01-03 09:45:00  206.886036 -297.75    ...      NaN  15.26  14.15  NaN   \n",
       "\n",
       "                          WMB   WNR        WPZ    XEC    XOM        YPF  \n",
       "Date_Time                                                                \n",
       "2011-01-03 09:45:00  14.96375  0.59  12.523187  87.46  57.35  46.272106  \n",
       "\n",
       "[1 rows x 114 columns]"
      ]
     },
     "execution_count": 28,
     "metadata": {},
     "output_type": "execute_result"
    }
   ],
   "source": [
    "data.columns = universe\n",
    "data.ffill(inplace=True)\n",
    "data.head(1)"
   ]
  },
  {
   "cell_type": "code",
   "execution_count": 37,
   "metadata": {
    "collapsed": false
   },
   "outputs": [],
   "source": [
    "time_index = data.loc['2012':].index"
   ]
  },
  {
   "cell_type": "code",
   "execution_count": 48,
   "metadata": {
    "collapsed": false
   },
   "outputs": [],
   "source": [
    "time_index_dates = np.unique(list(map(lambda t: t.date(), time_index)))\n",
    "time_index_date_ends = list(map(lambda d: datetime.datetime(d.year, d.month, d.day, 15, 59, 0), time_index_dates))"
   ]
  },
  {
   "cell_type": "code",
   "execution_count": 111,
   "metadata": {
    "collapsed": false
   },
   "outputs": [
    {
     "name": "stderr",
     "output_type": "stream",
     "text": [
      "1367it [10:54,  1.88it/s]\n"
     ]
    }
   ],
   "source": [
    "for i, t in tqdm.tqdm(enumerate(time_index_date_ends)):\n",
    "    data_slice = data.loc[:t].tail(int(6.5 * 4 * 125))\n",
    "    data_slice.dropna(axis=1, inplace=True)\n",
    "    y_cols = [data_slice.columns[tup[0]] for tup in combinations(range(data_slice.shape[1]), 2)]\n",
    "    x_cols = [data_slice.columns[tup[1]] for tup in combinations(range(data_slice.shape[1]), 2)]\n",
    "    data_slice.to_csv('D:/data/storage/slices/data_slice_{}.csv'.format(t.date()))\n",
    "    pairs =     pd.DataFrame(np.vstack([y_cols, x_cols]).T, columns=['symbol_y', 'symbol_x'])\\\n",
    "            .to_csv('D:/data/storage/slices/pairs_{}.csv'.format(t.date()), index_label='id')"
   ]
  },
  {
   "cell_type": "code",
   "execution_count": 69,
   "metadata": {
    "collapsed": false
   },
   "outputs": [],
   "source": []
  },
  {
   "cell_type": "code",
   "execution_count": null,
   "metadata": {
    "collapsed": true
   },
   "outputs": [],
   "source": []
  }
 ],
 "metadata": {
  "kernelspec": {
   "display_name": "Python 3",
   "language": "python",
   "name": "python3"
  },
  "language_info": {
   "codemirror_mode": {
    "name": "ipython",
    "version": 3
   },
   "file_extension": ".py",
   "mimetype": "text/x-python",
   "name": "python",
   "nbconvert_exporter": "python",
   "pygments_lexer": "ipython3",
   "version": "3.6.0"
  }
 },
 "nbformat": 4,
 "nbformat_minor": 2
}
